{
 "cells": [
  {
   "cell_type": "code",
   "execution_count": 2,
   "metadata": {},
   "outputs": [
    {
     "name": "stdout",
     "output_type": "stream",
     "text": [
      "c =  205.2\n"
     ]
    }
   ],
   "source": [
    "import numpy as np\n",
    "def fred(a,b):\n",
    "    c=(a+b)*12\n",
    "    return c\n",
    "a = 13.2\n",
    "b = 3.9\n",
    "c = fred(a,b)\n",
    "\n",
    "print(\"c = \",c)"
   ]
  },
  {
   "cell_type": "code",
   "execution_count": 7,
   "metadata": {},
   "outputs": [
    {
     "name": "stdout",
     "output_type": "stream",
     "text": [
      "20.52\n"
     ]
    }
   ],
   "source": [
    "#Lets write rule 1\n",
    "def rule1(c, dA):\n",
    "    dQ = np.abs(c)*dA\n",
    "    return dQ\n",
    "dA = 0.1\n",
    "dB = 1.1\n",
    "\n",
    "errT = rule1(c, dA)\n",
    "print (errT)"
   ]
  },
  {
   "cell_type": "code",
   "execution_count": 10,
   "metadata": {},
   "outputs": [
    {
     "name": "stdout",
     "output_type": "stream",
     "text": [
      "6\n"
     ]
    }
   ],
   "source": [
    "#Lets write rule 2\n",
    "def rule2(c, m, dA, A):\n",
    "    dQ = np.abs(c*m*A**(m-1))*dA\n",
    "    return dQ\n",
    "A = 1\n",
    "m = 3\n",
    "dA = 2\n",
    "c = 1\n",
    "\n",
    "errT = rule2(c, m, dA, A)\n",
    "print (errT)"
   ]
  },
  {
   "cell_type": "code",
   "execution_count": 11,
   "metadata": {},
   "outputs": [
    {
     "name": "stdout",
     "output_type": "stream",
     "text": [
      "1.104536101718726\n"
     ]
    }
   ],
   "source": [
    "#lets write rule 3\n",
    "def rule3(dA, dB):\n",
    "    dQ = np.sqrt(dA**2 + dB**2)\n",
    "    return dQ\n",
    "dA = 0.1\n",
    "dB = 1.1\n",
    "\n",
    "errT = rule3(dA, dB)\n",
    "print (errT)\n"
   ]
  },
  {
   "cell_type": "code",
   "execution_count": 20,
   "metadata": {},
   "outputs": [
    {
     "name": "stdout",
     "output_type": "stream",
     "text": [
      "3.1149336908708744e-06\n"
     ]
    }
   ],
   "source": [
    "#Lets write rule 4\n",
    "def rule4(Q, m, n, dA, A, dB, B):\n",
    "    dQ = np.sqrt((m*dA/A)**2 + (n*dB/B)**2)*Q\n",
    "    return dQ\n",
    "Q = 0.783\n",
    "dA = 0.0001\n",
    "dB = .27\n",
    "A = 0.2083\n",
    "B = 10.5\n",
    "m = 1\n",
    "n = -1\n",
    "\n",
    "errT = rule4(dA, dB, Q, m, n, A, B)\n",
    "print (errT)"
   ]
  },
  {
   "cell_type": "code",
   "execution_count": 21,
   "metadata": {},
   "outputs": [
    {
     "name": "stdout",
     "output_type": "stream",
     "text": [
      "0.17950549357115014\n",
      "1.1166666666666667\n"
     ]
    }
   ],
   "source": [
    "# calculate the average, and err in mean\n",
    "x = np.array([1.1,1.3,1.4,0.9,0.95,1.05])\n",
    "print(np.std(x))\n",
    "print(np.average(x))"
   ]
  },
  {
   "cell_type": "markdown",
   "metadata": {},
   "source": [
    "# the error in average: 0.1795"
   ]
  },
  {
   "cell_type": "markdown",
   "metadata": {},
   "source": [
    "# the average is 1.12"
   ]
  },
  {
   "cell_type": "markdown",
   "metadata": {},
   "source": [
    "$\\delta Q = \\sqrt{(\\delta A)^2 + (\\delta B)^2}$"
   ]
  },
  {
   "cell_type": "markdown",
   "metadata": {},
   "source": [
    "$\\Sigma F_c =0 (4\\pi^2*m)/(slope)$"
   ]
  },
  {
   "cell_type": "code",
   "execution_count": null,
   "metadata": {},
   "outputs": [],
   "source": []
  }
 ],
 "metadata": {
  "kernelspec": {
   "display_name": "Python 3",
   "language": "python",
   "name": "python3"
  },
  "language_info": {
   "codemirror_mode": {
    "name": "ipython",
    "version": 3
   },
   "file_extension": ".py",
   "mimetype": "text/x-python",
   "name": "python",
   "nbconvert_exporter": "python",
   "pygments_lexer": "ipython3",
   "version": "3.8.3"
  }
 },
 "nbformat": 4,
 "nbformat_minor": 4
}
